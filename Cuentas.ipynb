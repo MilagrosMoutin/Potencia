{
 "cells": [
  {
   "cell_type": "code",
   "execution_count": 37,
   "metadata": {
    "collapsed": true,
    "pycharm": {
     "name": "#%%\n"
    }
   },
   "outputs": [],
   "source": [
    "K = -7.76*1e-3\n",
    "C = 10*1e-9"
   ]
  },
  {
   "cell_type": "markdown",
   "source": [
    "\\begin{align*}\n",
    "Z = \\frac{-j}{\\omega C_{snub}}\n",
    "\\end{align*}\n",
    "\\begin{align*}{Z_{in} = \\frac{Z}{1+K}}\\end{align*}\n",
    "\\begin{align*}{Z_{out} = \\frac{K\\cdot Z}{(K+1)}}\\end{align*}\n",
    "Con $k = -\\frac{V_b}{V_a}$"
   ],
   "metadata": {
    "collapsed": false,
    "pycharm": {
     "name": "#%% md\n"
    }
   }
  },
  {
   "cell_type": "markdown",
   "source": [],
   "metadata": {
    "collapsed": false,
    "pycharm": {
     "name": "#%% md\n"
    }
   }
  },
  {
   "cell_type": "code",
   "execution_count": 38,
   "outputs": [
    {
     "name": "stdout",
     "output_type": "stream",
     "text": [
      "Cin = 9.922nF\n",
      "Cout = -1278.66nF\n"
     ]
    }
   ],
   "source": [
    "Cin = C*(1+K)\n",
    "Cout = C*(1+(1/K))\n",
    "print(\"Cin = {}nF\".format(round(Cin*1e9,3)))\n",
    "print(\"Cout = {}nF\".format(round(Cout*1e9,3)))"
   ],
   "metadata": {
    "collapsed": false,
    "pycharm": {
     "name": "#%%\n"
    }
   }
  }
 ],
 "metadata": {
  "kernelspec": {
   "display_name": "Python 3",
   "language": "python",
   "name": "python3"
  },
  "language_info": {
   "codemirror_mode": {
    "name": "ipython",
    "version": 2
   },
   "file_extension": ".py",
   "mimetype": "text/x-python",
   "name": "python",
   "nbconvert_exporter": "python",
   "pygments_lexer": "ipython2",
   "version": "2.7.6"
  }
 },
 "nbformat": 4,
 "nbformat_minor": 0
}